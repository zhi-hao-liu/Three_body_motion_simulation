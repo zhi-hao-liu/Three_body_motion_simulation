{
 "cells": [
  {
   "cell_type": "code",
   "execution_count": 30,
   "id": "028adccb",
   "metadata": {},
   "outputs": [],
   "source": [
    "# Finished by Zhihao Liu\n",
    "# In this code, I simulated the three body motion for coloumb explosion experiment in 2D surface\n",
    "# We only consider the coulomb force in this model ( ignore the quantum effect)\n",
    "# New changes: the charge for each atom is not fixed. The charge is the function of bond length \n",
    "# The function mentioned above is different in different molecules.\n",
    "# We need to input the mass, initial position, initial velocity of each atom and the stepsize in simulation\n",
    "# This programme will output the final position, final momentum, final kinetic energy of each ion and the trajectary."
   ]
  },
  {
   "cell_type": "code",
   "execution_count": 9,
   "id": "3aadaa81",
   "metadata": {},
   "outputs": [],
   "source": [
    "%matplotlib inline\n",
    "import numpy as np\n",
    "import matplotlib.pyplot as plt\n",
    "import math\n",
    "\n",
    "# Define the coulomb constant\n",
    "k = 8.987155e9  # N * m^2 * C^-2\n",
    "\n",
    "\n",
    "# Time parameters\n",
    "dt = 0.01 * 1e-15  # Time step (in fs) 1 fs = 1*10^-15s\n",
    "num_steps = 1000000\n",
    "\n",
    "# Initial conditions for three bodies (mass , charge , position, velocity)\n",
    "# initial mass\n",
    "m1 = 32.0 * 1.67377e-27 # Mass of atom 1 (in kg) 1 atom weight = 1.67377 * 10^-27 kg\n",
    "m2 = 16.0 * 1.67377e-27 # Mass of atom 2 (in kg) 1 atom weight = 1.67377 * 10^-27 kg\n",
    "m3 = 16.0 * 1.67377e-27 # Mass of atom 3 (in kg) 1 atom weight = 1.67377 * 10^-27 kg\n",
    "\n",
    "# each atom's initial charge\n",
    "\n",
    "# each atom's final charge\n",
    "Q1_f = 2 * 1.602e-19 # charge of atom 1 (in Elementary charge) 1 elementary charge = 1.602 * 10^-19 coulombs\n",
    "Q2_f = 1 * 1.602e-19 # charge of atom 2  (in Elementary charge) 1 elementary charge = 1.602 * 10^-19 coulombs\n",
    "Q3_f = 1 * 1.602e-19 # charge of atom 3  (in Elementary charge) 1 elementary charge = 1.602 * 10^-19 coulombs\n",
    "\n",
    "\n",
    "# Initial positions (x, y) and velocities (vx, vy) for each body\n",
    "r1 = np.array([0.0,  0.370873]) * 1e-10 # atom 1 position (in Am) 1 Am = 1 * 10^-10m\n",
    "v1 = np.array([0.0, 0.0])  # atom 1 velocity\n",
    "\n",
    "r2 = np.array([1.261748, -0.370873]) * 1e-10 # atom 2 position (in Am) 1 Am = 1 * 10^-10m\n",
    "v2 = np.array([0.0, 0.0])  # atom 2 velocity\n",
    "\n",
    "r3 = np.array([-1.261748, -0.370873]) * 1e-10 # atom 3 position (in Am) 1 Am = 1 * 10^-10m\n",
    "v3 = np.array([0.0, 0.0])  # atom 3 velocity\n",
    "\n",
    "# Initialize arrays to store positions and velocities\n",
    "positions = np.zeros((num_steps, 3, 2))\n",
    "velocities = np.zeros((num_steps, 3, 2))"
   ]
  },
  {
   "cell_type": "code",
   "execution_count": 10,
   "id": "f5069fc6",
   "metadata": {},
   "outputs": [
    {
     "name": "stdout",
     "output_type": "stream",
     "text": [
      "1.579240677260557e-19\n"
     ]
    }
   ],
   "source": [
    "# Re is the value which means after 3*1e-10m there is no overlap between each atom's orital. \n",
    "# In SO2 calculation, we keep it at 3\n",
    "# Define constants\n",
    "import math\n",
    "Re = 1.46*1e-10 #unit is m\n",
    "Rc = 3.0*1e-10\n",
    "time_depend_charge = True\n",
    "\n",
    "def charge_over_time(ini_charge, final_charge, bond_length):\n",
    "    \"\"\"\n",
    "    Calculate the charge over time.\n",
    "\n",
    "    Parameters:\n",
    "    ini_charge (float): Initial charge\n",
    "    final_charge (float): Final charge\n",
    "    bond_length (float): Bond length\n",
    "\n",
    "    Returns:\n",
    "    float: Calculated charge over time\n",
    "    \"\"\"\n",
    "    if time_depend_charge:\n",
    "        Q_t = final_charge * (1 - (1 - ini_charge / final_charge) * math.exp((Re - bond_length) / Rc))\n",
    "    else:\n",
    "        Q_t = final_charge\n",
    "                              \n",
    "    return Q_t\n",
    "\n",
    "# Example usage\n",
    "a = charge_over_time(0.771* 1.602e-19, 1* 1.602e-19, 9.8*1e-10)\n",
    "print(a)"
   ]
  },
  {
   "cell_type": "code",
   "execution_count": 11,
   "id": "d3f750cb",
   "metadata": {},
   "outputs": [],
   "source": [
    "# Numerical integration\n",
    "for i in range(num_steps):\n",
    "    Q2_t = charge_over_time(0.77* 1.602e-19, Q2_f, np.linalg.norm(r2 - r1))\n",
    "    Q3_t = charge_over_time(0.77* 1.602e-19, Q3_f, np.linalg.norm(r3 - r1))\n",
    "    Q1_t = 4 * 1.602e-19 - Q2_t - Q3_t \n",
    "    \n",
    "    \n",
    "    \n",
    "    \n",
    "    \n",
    "    # Compute accelerations\n",
    "    a1 = k / m1 * (Q1_t * Q2_t * (r1 - r2)/ np.linalg.norm(r1 - r2)** 3 + Q1_t * Q3_t * (r1 - r3) / np.linalg.norm(r1 - r3) ** 3)\n",
    "    a2 = k / m2 * (Q2_t * Q1_t * (r2 - r1)/ np.linalg.norm(r2 - r1)** 3 + Q2_t * Q3_t * (r2 - r3) / np.linalg.norm(r2 - r3) ** 3)\n",
    "    a3 = k / m3 * (Q1_t * Q3_t * (r3 - r1)/ np.linalg.norm(r3 - r1)** 3 + Q2_t * Q3_t * (r3 - r2) / np.linalg.norm(r3 - r2) ** 3)\n",
    "\n",
    "\n",
    "    np.seterr(invalid='ignore')\n",
    "\n",
    "    # Update positions and velocities\n",
    "    r1 = r1 + v1 * dt\n",
    "    v1 = v1 + a1 * dt\n",
    "\n",
    "    #print(r1)\n",
    "\n",
    "    r2 = r2 + v2 * dt\n",
    "    v2 = v2 + a2 * dt\n",
    "\n",
    "    r3 = r3 + v3 * dt\n",
    "    v3 = v3 + a3 * dt\n",
    "\n",
    "    # Store positions and velocities\n",
    "    positions[i] = np.array([r1, r2, r3])\n",
    "    velocities[i] = np.array([v1, v2, v3])"
   ]
  },
  {
   "cell_type": "code",
   "execution_count": 8,
   "id": "f793ffbb",
   "metadata": {},
   "outputs": [
    {
     "name": "stdout",
     "output_type": "stream",
     "text": [
      "S kenetic energy is 16.760495719848624 eV\n",
      "O1 kenetic energy is 6.634639747149869 eV\n",
      "O2 kenetic energy is 6.634639747149869 eV\n",
      "total KER is 30.029775214148362 eV\n",
      "S momentum is 5.3631435851357e-22 kgm/s\n",
      "O1 momentum is 2.385995772310836e-22 kgm/s\n",
      "O2 momentum is 2.385995772310836e-22 kgm/s\n",
      "S momentum is 269.1192806852347 a.u.\n",
      "O1 momentum is 119.72781555615505 a.u.\n",
      "O2 momentum is 119.72781555615505 a.u.\n",
      "[    0.         10013.21788749]\n",
      "[ 7369.75355902 -5006.60894375]\n",
      "[-7369.75355902 -5006.60894375]\n"
     ]
    },
    {
     "data": {
      "image/png": "[encoded data removed]",
      "text/plain": [
       "<Figure size 576x432 with 1 Axes>"
      ]
     },
     "metadata": {
      "needs_background": "light"
     },
     "output_type": "display_data"
    }
   ],
   "source": [
    "#calculate and print the KE of each ion\n",
    "KE1 = 0.5 * m1 * np.linalg.norm(v1)**2 * 6.242e18 #calculate the final kenetic energy of each ion. Unit is eV\n",
    "KE2 = 0.5 * m2 * np.linalg.norm(v2)**2 * 6.242e18\n",
    "KE3 = 0.5 * m3 * np.linalg.norm(v3)**2 * 6.242e18\n",
    "print('S kenetic energy is' + ' '+ str(KE1) + ' eV')\n",
    "print('O1 kenetic energy is' + ' '+ str(KE2) + ' eV')\n",
    "print('O2 kenetic energy is' + ' '+ str(KE3) + ' eV')\n",
    "print('total KER is ' + str(KE1+KE2+KE3) + ' eV')\n",
    "\n",
    "\n",
    "\n",
    "#Calculate the momentum of each ion, unit is kgm/s\n",
    "P1 = m1 * np.linalg.norm(v1)\n",
    "P2 = m2 * np.linalg.norm(v2)\n",
    "P3 = m3 * np.linalg.norm(v3)\n",
    "print('S momentum is' + ' '+ str(P1) + ' kgm/s')\n",
    "print('O1 momentum is' + ' '+ str(P2) + ' kgm/s')\n",
    "print('O2 momentum is' + ' '+ str(P3) + ' kgm/s')\n",
    "\n",
    "#calculate the momentun of each in a.u.\n",
    "P1_au = P1/(1.99285e-24)\n",
    "P2_au = P2/(1.99285e-24)\n",
    "P3_au = P3/(1.99285e-24)\n",
    "print('S momentum is' + ' '+ str(P1_au) + ' a.u.')\n",
    "print('O1 momentum is' + ' '+ str(P2_au) + ' a.u.')\n",
    "print('O2 momentum is' + ' '+ str(P3_au) + ' a.u.')\n",
    "\n",
    "#Output each fragment's final angle between movement direction and x axis\n",
    "\n",
    "\n",
    "print(v1)\n",
    "print(v2)\n",
    "print(v3)\n",
    "\n",
    "# Plot the trajectories\n",
    "plt.figure(figsize=(8, 6))\n",
    "for i in range(3):\n",
    "    plt.plot(positions[:, i, 0], positions[:, i, 1], label=f\"Body {i+1}\")\n",
    "\n",
    "plt.xlabel(\"x\")\n",
    "plt.ylabel(\"y\")\n",
    "plt.title(\"Three-Body Motion\")\n",
    "plt.legend()\n",
    "plt.grid(True)\n"
   ]
  },
  {
   "cell_type": "code",
   "execution_count": null,
   "id": "673fa1c1",
   "metadata": {},
   "outputs": [],
   "source": []
  }
 ],
 "metadata": {
  "kernelspec": {
   "display_name": "Python 3 (ipykernel)",
   "language": "python",
   "name": "python3"
  },
  "language_info": {
   "codemirror_mode": {
    "name": "ipython",
    "version": 3
   },
   "file_extension": ".py",
   "mimetype": "text/x-python",
   "name": "python",
   "nbconvert_exporter": "python",
   "pygments_lexer": "ipython3",
   "version": "3.9.7"
  }
 },
 "nbformat": 4,
 "nbformat_minor": 5
}
